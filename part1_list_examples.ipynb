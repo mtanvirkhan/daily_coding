{
 "cells": [
  {
   "cell_type": "code",
   "execution_count": null,
   "id": "24cdd947",
   "metadata": {},
   "outputs": [
    {
     "name": "stdout",
     "output_type": "stream",
     "text": [
      "list: [1, 2, 3, 4, 5] \n",
      "\n",
      "list1: [1, 2, ['a', 'b']] \n",
      "\n",
      "list1[2][1]: b \n",
      "\n",
      "list1[2][1][0]: b \n",
      "\n",
      "list2: [1, 2, ['a', 'b', [3, 4, 'c', 'd']]] \n",
      "\n",
      "list2[2][2][1]: 4 \n",
      "\n",
      "list2[2][2][1:3]: [4, 'c'] \n",
      "\n",
      "list3: [1, 2, ['a', 'b', [3, 4, 'c', 'd', [5, 6], 7]]] \n",
      "\n",
      "list3[2][2][0:5]: [3, 4, 'c', 'd', [5, 6]] \n",
      "\n",
      "list3[2][2][3]: d \n",
      "\n",
      "list3[2][2][4][1:2]: [6] \n",
      "\n"
     ]
    }
   ],
   "source": [
    "# list data\n",
    "list = [1, 2, 3, 4, 5]\n",
    "list1 = [1, 2, ['a', 'b']]\n",
    "list2 = [1, 2, ['a', 'b', [3, 4, 'c', 'd']]]\n",
    "list3 = [1, 2, ['a', 'b', [3, 4, 'c', 'd', [5, 6], 7]]]\n",
    "\n",
    "print(f'list: {list} \\n')\n",
    "print(f'list1: {list1} \\n')\n",
    "print(f'list1[2][1]: {list1[2][1]} \\n')\n",
    "print(f'list1[2][1][0]: {list1[2][1][0]} \\n')\n",
    "print(f'list2: {list2} \\n')\n",
    "print(f'list2[2][2][1]: {list2[2][2][1]} \\n')\n",
    "print(f'list2[2][2][1:3]: {list2[2][2][1:3]} \\n')\n",
    "print(f'list3: {list3} \\n')\n",
    "print(f'list3[2][2][0:5]: {list3[2][2][0:5]} \\n')\n",
    "print(f'list3[2][2][3]: {list3[2][2][3]} \\n')\n",
    "print(f'list3[2][2][4][1:2]: {list3[2][2][4][1:2]} \\n')"
   ]
  },
  {
   "cell_type": "code",
   "execution_count": 2,
   "id": "8de2e768",
   "metadata": {},
   "outputs": [
    {
     "name": "stdout",
     "output_type": "stream",
     "text": [
      "string: 0123456789 \n",
      "\n",
      "string[0:5]: 01234 \n",
      "\n",
      "string[5:]: 56789 \n",
      "\n",
      "string[:5]: 01234 \n",
      "\n"
     ]
    }
   ],
   "source": [
    "# string slicing\n",
    "string = '0123456789'\n",
    "print(f'string: {string} \\n')\n",
    "print(f'string[0:5]: {string[0:5]} \\n')\n",
    "print(f'string[5:]: {string[5:]} \\n')\n",
    "print(f'string[:5]: {string[:5]} \\n')"
   ]
  },
  {
   "cell_type": "code",
   "execution_count": null,
   "id": "d3bd1a1e",
   "metadata": {},
   "outputs": [],
   "source": []
  }
 ],
 "metadata": {
  "kernelspec": {
   "display_name": "base",
   "language": "python",
   "name": "python3"
  },
  "language_info": {
   "codemirror_mode": {
    "name": "ipython",
    "version": 3
   },
   "file_extension": ".py",
   "mimetype": "text/x-python",
   "name": "python",
   "nbconvert_exporter": "python",
   "pygments_lexer": "ipython3",
   "version": "3.13.5"
  }
 },
 "nbformat": 4,
 "nbformat_minor": 5
}
